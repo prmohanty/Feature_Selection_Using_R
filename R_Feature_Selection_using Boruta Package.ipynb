{
 "cells": [
  {
   "cell_type": "markdown",
   "metadata": {},
   "source": [
    "# R - FEATURE SELECTION : \n",
    "#### SELECT IMPORTANT VARIABLES WITH BORUTA PACKAGE\n",
    "\n",
    "Priyaranjan Mohanty"
   ]
  },
  {
   "cell_type": "code",
   "execution_count": null,
   "metadata": {},
   "outputs": [],
   "source": []
  },
  {
   "cell_type": "markdown",
   "metadata": {},
   "source": [
    "Variable Selection is an important step in a predictive modeling project. It is also called 'Feature Selection'.\n",
    "\n",
    "Due to abundance of available data , most of the time we have too many predictors for a predictive model. \n",
    "\n",
    "But not every variable is important for prediction of a particular task. \n",
    "\n",
    "Hence it is essential to identify important variables and remove redundant variables. \n",
    "\n",
    "Before building a predictive model, it is generally not known about the exact list of important variable which returns accurate and robust model."
   ]
  },
  {
   "cell_type": "code",
   "execution_count": null,
   "metadata": {},
   "outputs": [],
   "source": []
  },
  {
   "cell_type": "markdown",
   "metadata": {},
   "source": [
    "### Why Variable Selection is important?\n",
    "\n",
    "1) Removing a redundant variable helps to improve accuracy. Similarly, inclusion of a relevant variable has a positive effect on model accuracy.\n",
    "\n",
    "2) Too many variables might result to overfitting which means model is not able to generalize pattern\n",
    "\n",
    "3) Too many variables leads to slow computation which in turns requires more memory and hardware."
   ]
  },
  {
   "cell_type": "code",
   "execution_count": null,
   "metadata": {},
   "outputs": [],
   "source": []
  },
  {
   "cell_type": "markdown",
   "metadata": {},
   "source": [
    "### Why Boruta Package?\n",
    "\n",
    "There are a lot of packages for feature selection in R. The question arises \" What makes boruta package so special\".  \n",
    "\n",
    "Following are the reasons to use boruta package for feature selection.\n",
    "\n",
    "1) It works well for both classification and regression problem.\n",
    "\n",
    "2) It takes into account multi-variable relationships.\n",
    "\n",
    "3) It is an improvement on random forest variable importance measure which is a very popular method for variable selection.\n",
    "\n",
    "4) It follows an all-relevant variable selection method in which it considers all features which are relevant to the outcome variable. Whereas, most of the other variable selection algorithms follow a minimal optimal method where they rely on a small subset of features which yields a minimal error on a chosen classifier.\n",
    "\n",
    "5) It can handle interactions between variables\n",
    "\n",
    "6) It can deal with fluctuating nature of random a random forest importance measure"
   ]
  },
  {
   "cell_type": "code",
   "execution_count": null,
   "metadata": {},
   "outputs": [],
   "source": []
  },
  {
   "cell_type": "code",
   "execution_count": 15,
   "metadata": {},
   "outputs": [
    {
     "name": "stderr",
     "output_type": "stream",
     "text": [
      "Installing package into 'C:/Users/itzpr/OneDrive/Documents/R/win-library/3.5'\n",
      "(as 'lib' is unspecified)\n",
      "also installing the dependencies 'rFerns', 'xgboost'\n",
      "\n"
     ]
    },
    {
     "name": "stdout",
     "output_type": "stream",
     "text": [
      "package 'rFerns' successfully unpacked and MD5 sums checked\n",
      "package 'xgboost' successfully unpacked and MD5 sums checked\n",
      "package 'Boruta' successfully unpacked and MD5 sums checked\n",
      "\n",
      "The downloaded binary packages are in\n",
      "\tC:\\Users\\itzpr\\AppData\\Local\\Temp\\Rtmp8IqGWs\\downloaded_packages\n"
     ]
    }
   ],
   "source": [
    "install.packages(\"Boruta\" , dependencies=TRUE ,repos='http://cran.rstudio.com/')"
   ]
  },
  {
   "cell_type": "code",
   "execution_count": 16,
   "metadata": {},
   "outputs": [
    {
     "name": "stderr",
     "output_type": "stream",
     "text": [
      "Loading required package: Boruta\n",
      "Warning message:\n",
      "\"package 'Boruta' was built under R version 3.5.3\"Loading required package: ranger\n",
      "Warning message:\n",
      "\"package 'ranger' was built under R version 3.5.3\""
     ]
    }
   ],
   "source": [
    "require(dplyr)\n",
    "\n",
    "require(Boruta)"
   ]
  },
  {
   "cell_type": "code",
   "execution_count": 5,
   "metadata": {},
   "outputs": [],
   "source": [
    "#Read data\n",
    "\n",
    "df = read.csv(\"https://stats.idre.ucla.edu/stat/data/binary.csv\")\n"
   ]
  },
  {
   "cell_type": "code",
   "execution_count": 6,
   "metadata": {},
   "outputs": [
    {
     "data": {
      "text/html": [
       "<ol class=list-inline>\n",
       "\t<li>'admit'</li>\n",
       "\t<li>'gre'</li>\n",
       "\t<li>'gpa'</li>\n",
       "\t<li>'rank'</li>\n",
       "</ol>\n"
      ],
      "text/latex": [
       "\\begin{enumerate*}\n",
       "\\item 'admit'\n",
       "\\item 'gre'\n",
       "\\item 'gpa'\n",
       "\\item 'rank'\n",
       "\\end{enumerate*}\n"
      ],
      "text/markdown": [
       "1. 'admit'\n",
       "2. 'gre'\n",
       "3. 'gpa'\n",
       "4. 'rank'\n",
       "\n",
       "\n"
      ],
      "text/plain": [
       "[1] \"admit\" \"gre\"   \"gpa\"   \"rank\" "
      ]
     },
     "metadata": {},
     "output_type": "display_data"
    }
   ],
   "source": [
    "#Column Names\n",
    "names(df)"
   ]
  },
  {
   "cell_type": "code",
   "execution_count": 8,
   "metadata": {},
   "outputs": [
    {
     "name": "stdout",
     "output_type": "stream",
     "text": [
      "Observations: 400\n",
      "Variables: 4\n",
      "$ admit <int> 0, 1, 1, 1, 0, 1, 1, 0, 1, 0, 0, 0, 1, 0, 1, 0, 0, 0, 0, 1, 0...\n",
      "$ gre   <int> 380, 660, 800, 640, 520, 760, 560, 400, 540, 700, 800, 440, 7...\n",
      "$ gpa   <dbl> 3.61, 3.67, 4.00, 3.19, 2.93, 3.00, 2.98, 3.08, 3.39, 3.92, 4...\n",
      "$ rank  <int> 3, 3, 1, 4, 4, 2, 1, 2, 3, 2, 4, 1, 1, 2, 1, 3, 4, 3, 2, 1, 3...\n"
     ]
    }
   ],
   "source": [
    "glimpse(df)"
   ]
  },
  {
   "cell_type": "code",
   "execution_count": null,
   "metadata": {},
   "outputs": [],
   "source": []
  },
  {
   "cell_type": "code",
   "execution_count": 10,
   "metadata": {},
   "outputs": [],
   "source": [
    "# Define Categorical Variables\n",
    "\n",
    "df$admit = as.factor(df$admit)\n",
    "df$rank = as.factor(df$rank)"
   ]
  },
  {
   "cell_type": "code",
   "execution_count": 11,
   "metadata": {},
   "outputs": [
    {
     "name": "stdout",
     "output_type": "stream",
     "text": [
      "Observations: 400\n",
      "Variables: 4\n",
      "$ admit <fct> 0, 1, 1, 1, 0, 1, 1, 0, 1, 0, 0, 0, 1, 0, 1, 0, 0, 0, 0, 1, 0...\n",
      "$ gre   <int> 380, 660, 800, 640, 520, 760, 560, 400, 540, 700, 800, 440, 7...\n",
      "$ gpa   <dbl> 3.61, 3.67, 4.00, 3.19, 2.93, 3.00, 2.98, 3.08, 3.39, 3.92, 4...\n",
      "$ rank  <fct> 3, 3, 1, 4, 4, 2, 1, 2, 3, 2, 4, 1, 1, 2, 1, 3, 4, 3, 2, 1, 3...\n"
     ]
    }
   ],
   "source": [
    "glimpse(df)"
   ]
  },
  {
   "cell_type": "code",
   "execution_count": null,
   "metadata": {},
   "outputs": [],
   "source": []
  },
  {
   "cell_type": "code",
   "execution_count": 12,
   "metadata": {},
   "outputs": [
    {
     "data": {
      "text/plain": [
       " admit        gre             gpa        rank   \n",
       " 0:273   Min.   :220.0   Min.   :2.260   1: 61  \n",
       " 1:127   1st Qu.:520.0   1st Qu.:3.130   2:151  \n",
       "         Median :580.0   Median :3.395   3:121  \n",
       "         Mean   :587.7   Mean   :3.390   4: 67  \n",
       "         3rd Qu.:660.0   3rd Qu.:3.670          \n",
       "         Max.   :800.0   Max.   :4.000          "
      ]
     },
     "metadata": {},
     "output_type": "display_data"
    },
    {
     "data": {
      "text/html": [
       "<dl class=dl-horizontal>\n",
       "\t<dt>admit</dt>\n",
       "\t\t<dd>0</dd>\n",
       "\t<dt>gre</dt>\n",
       "\t\t<dd>0</dd>\n",
       "\t<dt>gpa</dt>\n",
       "\t\t<dd>0</dd>\n",
       "\t<dt>rank</dt>\n",
       "\t\t<dd>0</dd>\n",
       "</dl>\n"
      ],
      "text/latex": [
       "\\begin{description*}\n",
       "\\item[admit] 0\n",
       "\\item[gre] 0\n",
       "\\item[gpa] 0\n",
       "\\item[rank] 0\n",
       "\\end{description*}\n"
      ],
      "text/markdown": [
       "admit\n",
       ":   0gre\n",
       ":   0gpa\n",
       ":   0rank\n",
       ":   0\n",
       "\n"
      ],
      "text/plain": [
       "admit   gre   gpa  rank \n",
       "    0     0     0     0 "
      ]
     },
     "metadata": {},
     "output_type": "display_data"
    }
   ],
   "source": [
    "#Summarize Data\n",
    "summary(df) \n",
    "\n",
    "#Check number of missing values\n",
    "sapply(df, function(y) sum(is.na(y)))"
   ]
  },
  {
   "cell_type": "code",
   "execution_count": null,
   "metadata": {},
   "outputs": [],
   "source": []
  },
  {
   "cell_type": "code",
   "execution_count": 17,
   "metadata": {},
   "outputs": [
    {
     "name": "stderr",
     "output_type": "stream",
     "text": [
      " 1. run of importance source...\n",
      " 2. run of importance source...\n",
      " 3. run of importance source...\n",
      " 4. run of importance source...\n",
      " 5. run of importance source...\n",
      " 6. run of importance source...\n",
      " 7. run of importance source...\n",
      " 8. run of importance source...\n",
      " 9. run of importance source...\n",
      "After 9 iterations, +1.3 secs: \n",
      " confirmed 3 attributes: gpa, gre, rank;\n",
      " no more attributes left.\n",
      "\n"
     ]
    },
    {
     "name": "stdout",
     "output_type": "stream",
     "text": [
      "Boruta performed 9 iterations in 1.291652 secs.\n",
      " 3 attributes confirmed important: gpa, gre, rank;\n",
      " No attributes deemed unimportant.\n"
     ]
    },
    {
     "data": {
      "image/png": "[encoded data removed]",
      "text/plain": [
       "plot without title"
      ]
     },
     "metadata": {},
     "output_type": "display_data"
    }
   ],
   "source": [
    "# Run Boruta Algorithm\n",
    "set.seed(456)\n",
    "\n",
    "boruta <- Boruta(admit~., data = df, doTrace = 2)\n",
    "\n",
    "print(boruta)\n",
    "\n",
    "plot(boruta)"
   ]
  },
  {
   "cell_type": "code",
   "execution_count": null,
   "metadata": {},
   "outputs": [],
   "source": []
  },
  {
   "cell_type": "markdown",
   "metadata": {},
   "source": [
    "Above shows all the three variables are considered important and no one is tagged 'unimportant'. The plot() option shows box plot of all the attributes plus minimum, average and max shadow score. Variables having boxplot in green shows all predictors are important. If boxplots are in red, it shows they are rejected. And yellow color of box plot indicates they are tentative."
   ]
  },
  {
   "cell_type": "code",
   "execution_count": null,
   "metadata": {},
   "outputs": [],
   "source": []
  },
  {
   "cell_type": "markdown",
   "metadata": {},
   "source": [
    "### Let's add some irrelevant data to our original dataset to check the importance"
   ]
  },
  {
   "cell_type": "code",
   "execution_count": 18,
   "metadata": {},
   "outputs": [],
   "source": [
    "#Add some random permuted data\n",
    "set.seed(777)\n",
    "\n",
    "df.new<-data.frame(df,apply(df[,-1],2,sample))\n",
    "\n",
    "names(df.new)[5:7]<-paste(\"Random\",1:3,sep=\"\")\n",
    "\n",
    "df.new$Random1 = as.numeric(as.character(df.new$Random1))\n",
    "df.new$Random2 = as.numeric(as.character(df.new$Random2))"
   ]
  },
  {
   "cell_type": "code",
   "execution_count": null,
   "metadata": {},
   "outputs": [],
   "source": []
  },
  {
   "cell_type": "markdown",
   "metadata": {},
   "source": [
    "### Lets run Boruta algorithm again with this new DataFrame"
   ]
  },
  {
   "cell_type": "code",
   "execution_count": 19,
   "metadata": {},
   "outputs": [
    {
     "name": "stderr",
     "output_type": "stream",
     "text": [
      "After 10 iterations, +1.4 secs: \n",
      " confirmed 2 attributes: gpa, rank;\n",
      " rejected 1 attribute: Random1;\n",
      " still have 3 attributes left.\n",
      "\n",
      "After 17 iterations, +2.2 secs: \n",
      " confirmed 1 attribute: gre;\n",
      " still have 2 attributes left.\n",
      "\n",
      "After 20 iterations, +2.5 secs: \n",
      " rejected 1 attribute: Random3;\n",
      " still have 1 attribute left.\n",
      "\n",
      "After 55 iterations, +6.6 secs: \n",
      " rejected 1 attribute: Random2;\n",
      " no more attributes left.\n",
      "\n"
     ]
    },
    {
     "name": "stdout",
     "output_type": "stream",
     "text": [
      "Boruta performed 55 iterations in 6.573424 secs.\n",
      " 3 attributes confirmed important: gpa, gre, rank;\n",
      " 3 attributes confirmed unimportant: Random1, Random2, Random3;\n"
     ]
    },
    {
     "data": {
      "image/png": "[encoded data removed]",
      "text/plain": [
       "plot without title"
      ]
     },
     "metadata": {},
     "output_type": "display_data"
    }
   ],
   "source": [
    "set.seed(456)\n",
    "\n",
    "boruta2 <- Boruta(admit~., data = df.new, doTrace = 1)\n",
    "\n",
    "print(boruta2)\n",
    "\n",
    "plot(boruta2)"
   ]
  },
  {
   "cell_type": "markdown",
   "metadata": {},
   "source": [
    "The irrelevant variable we added to the dataset came out unimportant as per boruta algorithm."
   ]
  },
  {
   "cell_type": "code",
   "execution_count": null,
   "metadata": {},
   "outputs": [],
   "source": []
  },
  {
   "cell_type": "code",
   "execution_count": 21,
   "metadata": {},
   "outputs": [
    {
     "data": {
      "text/html": [
       "<ol class=list-inline>\n",
       "\t<li>'gre'</li>\n",
       "\t<li>'gpa'</li>\n",
       "\t<li>'rank'</li>\n",
       "</ol>\n"
      ],
      "text/latex": [
       "\\begin{enumerate*}\n",
       "\\item 'gre'\n",
       "\\item 'gpa'\n",
       "\\item 'rank'\n",
       "\\end{enumerate*}\n"
      ],
      "text/markdown": [
       "1. 'gre'\n",
       "2. 'gpa'\n",
       "3. 'rank'\n",
       "\n",
       "\n"
      ],
      "text/plain": [
       "[1] \"gre\"  \"gpa\"  \"rank\""
      ]
     },
     "metadata": {},
     "output_type": "display_data"
    }
   ],
   "source": [
    "#See list of finalvars\n",
    "\n",
    "finalvars = getSelectedAttributes(boruta2, withTentative = F)\n",
    "\n",
    "finalvars"
   ]
  },
  {
   "cell_type": "code",
   "execution_count": null,
   "metadata": {},
   "outputs": [],
   "source": []
  },
  {
   "cell_type": "markdown",
   "metadata": {},
   "source": [
    "Thank You & Happy Learning !!"
   ]
  },
  {
   "cell_type": "code",
   "execution_count": null,
   "metadata": {},
   "outputs": [],
   "source": []
  }
 ],
 "metadata": {
  "kernelspec": {
   "display_name": "R",
   "language": "R",
   "name": "ir"
  },
  "language_info": {
   "codemirror_mode": "r",
   "file_extension": ".r",
   "mimetype": "text/x-r-source",
   "name": "R",
   "pygments_lexer": "r",
   "version": "3.5.1"
  }
 },
 "nbformat": 4,
 "nbformat_minor": 2
}
